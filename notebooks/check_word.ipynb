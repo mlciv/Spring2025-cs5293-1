{
 "cells": [
  {
   "cell_type": "markdown",
   "id": "8bd92818",
   "metadata": {},
   "source": [
    "# Example of AI Usage\n",
    "\n",
    "When you search the problem \"How to lookup a word in an English dictionary using Python\"\n",
    "The Gemini in google search will tell you three ways, (1) PyDictionary (2) WordNet (3) Custom Dictionary. However, the PyDictionary is not good, and doesn't work well, please ignore."
   ]
  },
  {
   "cell_type": "markdown",
   "id": "0cfaf1bb",
   "metadata": {},
   "source": [
    "# [Using WordNet](https://wordnet.princeton.edu)"
   ]
  },
  {
   "cell_type": "code",
   "execution_count": 1,
   "id": "afbbc468",
   "metadata": {},
   "outputs": [
    {
     "name": "stderr",
     "output_type": "stream",
     "text": [
      "bash: line 1: conda: command not found\n"
     ]
    },
    {
     "name": "stdout",
     "output_type": "stream",
     "text": [
      "Collecting nltk\n",
      "  Downloading nltk-3.9.1-py3-none-any.whl.metadata (2.9 kB)\n",
      "Collecting click (from nltk)\n",
      "  Downloading click-8.1.8-py3-none-any.whl.metadata (2.3 kB)\n",
      "Collecting joblib (from nltk)\n",
      "  Downloading joblib-1.4.2-py3-none-any.whl.metadata (5.4 kB)\n",
      "Requirement already satisfied: regex>=2021.8.3 in /Users/jcao/mamba/envs/cs5293-1/lib/python3.10/site-packages (from nltk) (2024.11.6)\n",
      "Requirement already satisfied: tqdm in /Users/jcao/mamba/envs/cs5293-1/lib/python3.10/site-packages (from nltk) (4.67.1)\n",
      "Downloading nltk-3.9.1-py3-none-any.whl (1.5 MB)\n",
      "\u001b[2K   \u001b[90m━━━━━━━━━━━━━━━━━━━━━━━━━━━━━━━━━━━━━━━━\u001b[0m \u001b[32m1.5/1.5 MB\u001b[0m \u001b[31m20.9 MB/s\u001b[0m eta \u001b[36m0:00:00\u001b[0m\n",
      "\u001b[?25hDownloading click-8.1.8-py3-none-any.whl (98 kB)\n",
      "Downloading joblib-1.4.2-py3-none-any.whl (301 kB)\n",
      "Installing collected packages: joblib, click, nltk\n",
      "Successfully installed click-8.1.8 joblib-1.4.2 nltk-3.9.1\n"
     ]
    }
   ],
   "source": [
    "%%bash\n",
    "conda activate cs5293-1\n",
    "pip install nltk"
   ]
  },
  {
   "cell_type": "code",
   "execution_count": null,
   "id": "4bc456f1",
   "metadata": {},
   "outputs": [
    {
     "name": "stderr",
     "output_type": "stream",
     "text": [
      "[nltk_data] Downloading package wordnet to /Users/jcao/nltk_data...\n",
      "[nltk_data]   Package wordnet is already up-to-date!\n"
     ]
    },
    {
     "data": {
      "text/plain": [
       "True"
      ]
     },
     "execution_count": 11,
     "metadata": {},
     "output_type": "execute_result"
    }
   ],
   "source": [
    "# download the wordnet using nltk \n",
    "\n",
    "import nltk\n",
    "nltk.download('wordnet')"
   ]
  },
  {
   "cell_type": "code",
   "execution_count": 9,
   "id": "828cfca2",
   "metadata": {},
   "outputs": [
    {
     "data": {
      "text/plain": [
       "['eng']"
      ]
     },
     "execution_count": 9,
     "metadata": {},
     "output_type": "execute_result"
    }
   ],
   "source": [
    "from nltk.corpus import wordnet as wn\n",
    "# The WordNet corpus reader gives access to the Open Multilingual WordNet, \n",
    "# using ISO-639 language codes. \n",
    "# These languages are not loaded by default, but only lazily, when needed.\n",
    "wn.langs()"
   ]
  },
  {
   "cell_type": "code",
   "execution_count": 17,
   "id": "8f18d938",
   "metadata": {},
   "outputs": [
    {
     "name": "stderr",
     "output_type": "stream",
     "text": [
      "[nltk_data] Downloading package omw-1.4 to /Users/jcao/nltk_data...\n",
      "[nltk_data]   Package omw-1.4 is already up-to-date!\n"
     ]
    },
    {
     "data": {
      "text/plain": [
       "['いぬ',\n",
       " 'まわし者',\n",
       " 'スパイ',\n",
       " '回し者',\n",
       " '回者',\n",
       " '密偵',\n",
       " '工作員',\n",
       " '廻し者',\n",
       " '廻者',\n",
       " '探',\n",
       " '探り',\n",
       " '犬',\n",
       " '秘密捜査員',\n",
       " '諜報員',\n",
       " '諜者',\n",
       " '間者',\n",
       " '間諜',\n",
       " '隠密']"
      ]
     },
     "execution_count": 17,
     "metadata": {},
     "output_type": "execute_result"
    }
   ],
   "source": [
    "# download the Open Multilingual WordNet\n",
    "nltk.download('omw-1.4')\n",
    "wn.synset('spy.n.01').lemma_names('jpn')\n"
   ]
  },
  {
   "cell_type": "code",
   "execution_count": 18,
   "id": "4cddce0c",
   "metadata": {},
   "outputs": [
    {
     "data": {
      "text/plain": [
       "['als',\n",
       " 'arb',\n",
       " 'bul',\n",
       " 'cat',\n",
       " 'cmn',\n",
       " 'dan',\n",
       " 'ell',\n",
       " 'eng',\n",
       " 'eus',\n",
       " 'fin',\n",
       " 'fra',\n",
       " 'glg',\n",
       " 'heb',\n",
       " 'hrv',\n",
       " 'ind',\n",
       " 'isl',\n",
       " 'ita',\n",
       " 'ita_iwn',\n",
       " 'jpn',\n",
       " 'lit',\n",
       " 'nld',\n",
       " 'nno',\n",
       " 'nob',\n",
       " 'pol',\n",
       " 'por',\n",
       " 'ron',\n",
       " 'slk',\n",
       " 'slv',\n",
       " 'spa',\n",
       " 'swe',\n",
       " 'tha',\n",
       " 'zsm']"
      ]
     },
     "execution_count": 18,
     "metadata": {},
     "output_type": "execute_result"
    }
   ],
   "source": [
    "# Now the wordnet is downloaded and we can access the words in different languages\n",
    "sorted(wn.langs())"
   ]
  },
  {
   "cell_type": "code",
   "execution_count": 6,
   "id": "1b08c4d1",
   "metadata": {},
   "outputs": [
    {
     "name": "stdout",
     "output_type": "stream",
     "text": [
      "Number of words (lemmas) in English WordNet: 147306\n"
     ]
    }
   ],
   "source": [
    "print(\"Number of words (lemmas) in English WordNet:\", len(list(wn.words())))"
   ]
  },
  {
   "cell_type": "code",
   "execution_count": 31,
   "id": "6cdb4ce8",
   "metadata": {},
   "outputs": [
    {
     "name": "stdout",
     "output_type": "stream",
     "text": [
      "Number of senses for the word spy: 6\n",
      "The test word spy exists, and the first sense: (military) a secret agent hired by a state to obtain information about its enemies or by a business to obtain industrial secrets from competitors\n"
     ]
    }
   ],
   "source": [
    "#test_word = \"7788\" # non-existent word\n",
    "test_word = \"spy\" # existent word\n",
    "eg_synsets = wn.synsets(test_word)\n",
    "print(f\"Number of senses for the word {test_word}: {len(eg_synsets)}\")\n",
    "# checking if the word exists in the wordnet\n",
    "if len(eg_synsets) > 0:\n",
    "    print(f\"The test word {test_word} exists, and the first sense: {eg_synsets[0].definition()}\")"
   ]
  },
  {
   "cell_type": "code",
   "execution_count": 32,
   "id": "e89f3e42",
   "metadata": {},
   "outputs": [
    {
     "name": "stdout",
     "output_type": "stream",
     "text": [
      "Synset('spy.n.01')\n"
     ]
    }
   ],
   "source": [
    "# first sense (most common usage for look)\n",
    "eg_sense_1 = eg_synsets[0]\n",
    "print(eg_sense_1)"
   ]
  },
  {
   "cell_type": "code",
   "execution_count": 33,
   "id": "e7834f5c",
   "metadata": {},
   "outputs": [
    {
     "name": "stdout",
     "output_type": "stream",
     "text": [
      "Lemma: spy\n",
      "POS: n\n",
      "Definition: (military) a secret agent hired by a state to obtain information about its enemies or by a business to obtain industrial secrets from competitors\n",
      "Example Usage: \n"
     ]
    }
   ],
   "source": [
    "# Let's see what is in this sense\n",
    "\n",
    "# lemma\n",
    "print('Lemma:', eg_sense_1.lemmas()[0].name())\n",
    "\n",
    "# POS\n",
    "print('POS:', eg_sense_1.pos())\n",
    "\n",
    "# Definition\n",
    "print(\"Definition:\", eg_sense_1.definition())\n",
    "\n",
    "# Example Usage\n",
    "print(\"Example Usage:\", '; '.join(eg_sense_1.examples()))"
   ]
  },
  {
   "cell_type": "code",
   "execution_count": 13,
   "id": "f34c72cc",
   "metadata": {},
   "outputs": [
    {
     "name": "stdout",
     "output_type": "stream",
     "text": [
      "Languages available in WN: eng\n"
     ]
    }
   ],
   "source": [
    "# Other Languages usable through wn?\n",
    "\n",
    "print(\"Languages available in WN:\", ', '.join(wn.langs()))"
   ]
  },
  {
   "cell_type": "markdown",
   "id": "95865091",
   "metadata": {},
   "source": [
    "More Languages?"
   ]
  },
  {
   "cell_type": "code",
   "execution_count": 14,
   "id": "6b5bf8fc",
   "metadata": {},
   "outputs": [
    {
     "name": "stdout",
     "output_type": "stream",
     "text": [
      "Collecting pyiwn\n",
      "  Downloading pyiwn-0.0.5-py3-none-any.whl.metadata (778 bytes)\n",
      "Requirement already satisfied: pandas in /Users/jcao/mamba/envs/cs5293-1/lib/python3.10/site-packages (from pyiwn) (2.2.3)\n",
      "Requirement already satisfied: requests in /Users/jcao/mamba/envs/cs5293-1/lib/python3.10/site-packages (from pyiwn) (2.32.3)\n",
      "Requirement already satisfied: numpy>=1.22.4 in /Users/jcao/mamba/envs/cs5293-1/lib/python3.10/site-packages (from pandas->pyiwn) (2.2.1)\n",
      "Requirement already satisfied: python-dateutil>=2.8.2 in /Users/jcao/mamba/envs/cs5293-1/lib/python3.10/site-packages (from pandas->pyiwn) (2.9.0.post0)\n",
      "Requirement already satisfied: pytz>=2020.1 in /Users/jcao/mamba/envs/cs5293-1/lib/python3.10/site-packages (from pandas->pyiwn) (2024.1)\n",
      "Requirement already satisfied: tzdata>=2022.7 in /Users/jcao/mamba/envs/cs5293-1/lib/python3.10/site-packages (from pandas->pyiwn) (2024.2)\n",
      "Requirement already satisfied: charset_normalizer<4,>=2 in /Users/jcao/mamba/envs/cs5293-1/lib/python3.10/site-packages (from requests->pyiwn) (3.4.1)\n",
      "Requirement already satisfied: idna<4,>=2.5 in /Users/jcao/mamba/envs/cs5293-1/lib/python3.10/site-packages (from requests->pyiwn) (3.10)\n",
      "Requirement already satisfied: urllib3<3,>=1.21.1 in /Users/jcao/mamba/envs/cs5293-1/lib/python3.10/site-packages (from requests->pyiwn) (2.3.0)\n",
      "Requirement already satisfied: certifi>=2017.4.17 in /Users/jcao/mamba/envs/cs5293-1/lib/python3.10/site-packages (from requests->pyiwn) (2024.12.14)\n",
      "Requirement already satisfied: six>=1.5 in /Users/jcao/mamba/envs/cs5293-1/lib/python3.10/site-packages (from python-dateutil>=2.8.2->pandas->pyiwn) (1.17.0)\n",
      "Downloading pyiwn-0.0.5-py3-none-any.whl (12 kB)\n",
      "Installing collected packages: pyiwn\n",
      "Successfully installed pyiwn-0.0.5\n"
     ]
    }
   ],
   "source": [
    "%%bash\n",
    "pip install pyiwn"
   ]
  },
  {
   "cell_type": "markdown",
   "id": "f5800b0c",
   "metadata": {},
   "source": [
    "## [Hindi WordNet]( https://github.com/cfiltnlp/pyiwn)"
   ]
  },
  {
   "cell_type": "code",
   "execution_count": 15,
   "id": "7a2f63fe",
   "metadata": {},
   "outputs": [
    {
     "name": "stderr",
     "output_type": "stream",
     "text": [
      "2025-01-20:10:35:28,555 INFO     [helpers.py:20] Downloading IndoWordNet data of size ~31 MB...\n"
     ]
    },
    {
     "name": "stdout",
     "output_type": "stream",
     "text": [
      "[██████████████████████████████████████████████████]"
     ]
    },
    {
     "name": "stderr",
     "output_type": "stream",
     "text": [
      "2025-01-20:10:35:30,981 INFO     [helpers.py:43] Extracting /Users/jcao/iwn_data.tar.gz into /Users/jcao...\n"
     ]
    },
    {
     "name": "stdout",
     "output_type": "stream",
     "text": [
      "\n"
     ]
    },
    {
     "name": "stderr",
     "output_type": "stream",
     "text": [
      "2025-01-20:10:35:31,459 INFO     [helpers.py:48] Removing temporary zip file from /Users/jcao/iwn_data.tar.gz\n",
      "2025-01-20:10:35:31,461 INFO     [helpers.py:51] IndoWordNet data successfully downloaded at /Users/jcao/iwn_data\n",
      "2025-01-20:10:35:44,719 INFO     [iwn.py:43] Loading hindi language synsets...\n"
     ]
    }
   ],
   "source": [
    "# Hindi Wordnet: https://github.com/cfiltnlp/pyiwn\n",
    "\n",
    "import pyiwn\n",
    "\n",
    "wn_h = pyiwn.IndoWordNet()"
   ]
  },
  {
   "cell_type": "code",
   "execution_count": 16,
   "id": "8c193e08",
   "metadata": {},
   "outputs": [
    {
     "name": "stdout",
     "output_type": "stream",
     "text": [
      "Number of words (lemmas) in Hindi WordNet: 105458\n"
     ]
    }
   ],
   "source": [
    "print('Number of words (lemmas) in Hindi WordNet:', len(wn_h.all_words()))"
   ]
  },
  {
   "cell_type": "code",
   "execution_count": 17,
   "id": "65714d22",
   "metadata": {},
   "outputs": [],
   "source": [
    "# synsets for \"language\" called \"bhaasha\" in Hindi\n",
    "\n",
    "bhaasha_synsets = wn_h.synsets('भाषा')"
   ]
  },
  {
   "cell_type": "code",
   "execution_count": 18,
   "id": "d9c5d016",
   "metadata": {},
   "outputs": [
    {
     "data": {
      "text/plain": [
       "[Synset('वचन.noun.2934'),\n",
       " Synset('सरस्वती.noun.3499'),\n",
       " Synset('भाषा.noun.5489'),\n",
       " Synset('हिंदी.noun.10893'),\n",
       " Synset('अभियोग-पत्र.noun.30944'),\n",
       " Synset('भाषा.noun.40836'),\n",
       " Synset('भाषा.noun.40837'),\n",
       " Synset('भाषा.noun.40838'),\n",
       " Synset('भाषा.noun.40839')]"
      ]
     },
     "execution_count": 18,
     "metadata": {},
     "output_type": "execute_result"
    }
   ],
   "source": [
    "bhaasha_synsets"
   ]
  },
  {
   "cell_type": "code",
   "execution_count": null,
   "id": "76a55ba6",
   "metadata": {},
   "outputs": [],
   "source": []
  }
 ],
 "metadata": {
  "kernelspec": {
   "display_name": "cs5293-1",
   "language": "python",
   "name": "python3"
  },
  "language_info": {
   "codemirror_mode": {
    "name": "ipython",
    "version": 3
   },
   "file_extension": ".py",
   "mimetype": "text/x-python",
   "name": "python",
   "nbconvert_exporter": "python",
   "pygments_lexer": "ipython3",
   "version": "3.10.16"
  }
 },
 "nbformat": 4,
 "nbformat_minor": 5
}
